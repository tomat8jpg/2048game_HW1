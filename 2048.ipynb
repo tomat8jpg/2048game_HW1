{
  "nbformat": 4,
  "nbformat_minor": 0,
  "metadata": {
    "accelerator": "GPU",
    "colab": {
      "name": "2048 (1).ipynb",
      "provenance": [],
      "collapsed_sections": []
    },
    "kernelspec": {
      "display_name": "Python 3",
      "language": "python",
      "name": "python3"
    },
    "language_info": {
      "codemirror_mode": {
        "name": "ipython",
        "version": 3
      },
      "file_extension": ".py",
      "mimetype": "text/x-python",
      "name": "python",
      "nbconvert_exporter": "python",
      "pygments_lexer": "ipython3",
      "version": "3.7.6"
    }
  },
  "cells": [
    {
      "cell_type": "code",
      "metadata": {
        "colab_type": "code",
        "id": "om5ybHgaZA_5",
        "outputId": "f8331648-996a-436f-82b8-22809aa1504f",
        "colab": {
          "base_uri": "https://localhost:8080/",
          "height": 471
        }
      },
      "source": [
        "!pip install cupy\n",
        "# Установка библиотеки cupy\n",
        "# Необязательна, если встроена в коллаб\n",
        "# Клетку можно спокойно пропустить"
      ],
      "execution_count": 0,
      "outputs": [
        {
          "output_type": "stream",
          "text": [
            "Collecting cupy\n",
            "  Using cached cupy-7.5.0.tar.gz (3.7 MB)\n"
          ],
          "name": "stdout"
        },
        {
          "output_type": "stream",
          "text": [
            "    ERROR: Command errored out with exit status 1:\n",
            "     command: 'C:\\Users\\taran\\anaconda3\\python.exe' -c 'import sys, setuptools, tokenize; sys.argv[0] = '\"'\"'C:\\\\Users\\\\taran\\\\AppData\\\\Local\\\\Temp\\\\pip-install-bsy3wk95\\\\cupy\\\\setup.py'\"'\"'; __file__='\"'\"'C:\\\\Users\\\\taran\\\\AppData\\\\Local\\\\Temp\\\\pip-install-bsy3wk95\\\\cupy\\\\setup.py'\"'\"';f=getattr(tokenize, '\"'\"'open'\"'\"', open)(__file__);code=f.read().replace('\"'\"'\\r\\n'\"'\"', '\"'\"'\\n'\"'\"');f.close();exec(compile(code, __file__, '\"'\"'exec'\"'\"'))' egg_info --egg-base 'C:\\Users\\taran\\AppData\\Local\\Temp\\pip-install-bsy3wk95\\cupy\\pip-egg-info'\n",
            "         cwd: C:\\Users\\taran\\AppData\\Local\\Temp\\pip-install-bsy3wk95\\cupy\\\n",
            "    Complete output (43 lines):\n",
            "    Options: {'package_name': 'cupy', 'long_description': None, 'wheel_libs': [], 'wheel_includes': [], 'no_rpath': False, 'profile': False, 'linetrace': False, 'annotate': False, 'no_cuda': False, 'use_hip': False}\n",
            "    \n",
            "    -------- Configuring Module: cuda --------\n",
            "    Microsoft Visual C++ 14.0 is required. Get it with \"Build Tools for Visual Studio\": https://visualstudio.microsoft.com/downloads/\n",
            "    \n",
            "    ************************************************************\n",
            "    * CuPy Configuration Summary                               *\n",
            "    ************************************************************\n",
            "    \n",
            "    Build Environment:\n",
            "      Include directories: []\n",
            "      Library directories: []\n",
            "      nvcc command       : (not found)\n",
            "    \n",
            "    Environment Variables:\n",
            "      CFLAGS          : (none)\n",
            "      LDFLAGS         : (none)\n",
            "      LIBRARY_PATH    : (none)\n",
            "      CUDA_PATH       : (none)\n",
            "      NVTOOLSEXT_PATH : (none)\n",
            "      NVCC            : (none)\n",
            "      ROCM_HOME       : (none)\n",
            "    \n",
            "    Modules:\n",
            "      cuda      : No\n",
            "        -> Include files not found: ['cublas_v2.h', 'cuda.h', 'cuda_profiler_api.h', 'cuda_runtime.h', 'cufft.h', 'curand.h', 'cusparse.h', 'nvrtc.h']\n",
            "        -> Check your CFLAGS environment variable.\n",
            "    \n",
            "    ERROR: CUDA could not be found on your system.\n",
            "    Please refer to the Installation Guide for details:\n",
            "    https://docs-cupy.chainer.org/en/stable/install.html\n",
            "    \n",
            "    ************************************************************\n",
            "    \n",
            "    Traceback (most recent call last):\n",
            "      File \"<string>\", line 1, in <module>\n",
            "      File \"C:\\Users\\taran\\AppData\\Local\\Temp\\pip-install-bsy3wk95\\cupy\\setup.py\", line 129, in <module>\n",
            "        ext_modules = cupy_setup_build.get_ext_modules()\n",
            "      File \"C:\\Users\\taran\\AppData\\Local\\Temp\\pip-install-bsy3wk95\\cupy\\cupy_setup_build.py\", line 744, in get_ext_modules\n",
            "        extensions = make_extensions(arg_options, compiler, use_cython)\n",
            "      File \"C:\\Users\\taran\\AppData\\Local\\Temp\\pip-install-bsy3wk95\\cupy\\cupy_setup_build.py\", line 492, in make_extensions\n",
            "        raise Exception('Your CUDA environment is invalid. '\n",
            "    Exception: Your CUDA environment is invalid. Please check above error log.\n",
            "    ----------------------------------------\n",
            "ERROR: Command errored out with exit status 1: python setup.py egg_info Check the logs for full command output.\n"
          ],
          "name": "stderr"
        }
      ]
    },
    {
      "cell_type": "code",
      "metadata": {
        "colab_type": "code",
        "id": "RZEF9_g3ZF5G",
        "colab": {}
      },
      "source": [
        "import cupy as cp\n",
        "import random\n"
      ],
      "execution_count": 0,
      "outputs": []
    },
    {
      "cell_type": "code",
      "metadata": {
        "colab_type": "code",
        "id": "ld6rMOVmZiiN",
        "colab": {}
      },
      "source": [
        "# Функции, которые нам потребуются\n",
        "def draw_pole(pole):\n",
        "  # Отрисовывает поле\n",
        "    for i in pole:\n",
        "        temp = [int(j) if j > 0 else ' ' for j in i]\n",
        "        print((f'+----+----+----+----+\\n|'\n",
        "                f'{temp[0]:4}|{temp[1]:4}|{temp[2]:4}|{temp[3]:4}|'))\n",
        "    print('+----+----+----+----+')\n",
        "\n",
        "\n",
        "def new_value(pole):\n",
        "  # Вставляет значение на случайную пустую клетку. \n",
        "    #в игре закидывается либо 2 либо 4\n",
        "    empty = []\n",
        "    for i in range(4):\n",
        "        for j in range(4):\n",
        "            if pole[i, j] == 0:\n",
        "                empty.append((i, j))\n",
        "    x, y = random.choice(empty)\n",
        "    prob = random.random()\n",
        "    if prob <= 0.9:\n",
        "        pole[x, y] = 2\n",
        "         # 2 вставляется на пустую клетку с вероятностью 90 процентов\n",
        "    else:\n",
        "        pole[x, y] = 4\n",
        "        # 4 вставляется с вероятность 10 процентов\n",
        "\n",
        "\n",
        "def check(pole):\n",
        "    # Проверяет, есть ли хоть 1 возможный ход\n",
        "    for i in range(4):\n",
        "        for j in range(4):\n",
        "            if pole[i, j] == 0:\n",
        "                return True\n",
        "                # Если есть пустые ячейки, значит можно что-то куда-то сдвинуть\n",
        "    for i in range(3):\n",
        "        for j in range(3):\n",
        "            if pole[i, j] == pole[i + 1, j] or pole[i, j] == pole[i, j + 1]:\n",
        "                return True\n",
        "                # Если есть 2 рядом стоящих одинаковых значения, значит тоже хоть один ход еще есть\n",
        "    return False\n",
        "    # Иначе ошибка, конец игры\n",
        "\n",
        "\n",
        "def shift(pole):\n",
        "  # Сдвигает все влево: либо сдвигает элементы на пустые поля, либо складывает одинаковые элементы в строчке\n",
        "    count = 0\n",
        "    score = 0\n",
        "    for i in range(4):\n",
        "        for j in range(1, 4):\n",
        "            for k in range(j, 0, -1):\n",
        "                if pole[i, k-1] == 0 or pole[i, k-1] == pole[i, k]:\n",
        "                    if pole[i, k-1] == pole[i, k]:\n",
        "                        score += pole[i, k]\n",
        "                    pole[i, k-1] += pole[i, k]\n",
        "                    pole[i, k] = 0\n",
        "                    count += 1\n",
        "    return count, score\n",
        "\n",
        "\n",
        "def make_step(pole, step: int):\n",
        "   # Делает сдвиг. принимает 2 аргумента: поле и саму команду\n",
        "    # Шаг влево\n",
        "    if step == 1:\n",
        "        t = shift(pole)\n",
        "        return t\n",
        "    # Шаг вверх\n",
        "    elif step == 2:\n",
        "        pole = cp.rot90(pole, k=1)\n",
        "        # Переворачиваем матрицу на 90 градусов, вызываем шифт влево, переворачиваем матрицу обратно\n",
        "        t = shift(pole)\n",
        "        pole = cp.rot90(pole, k=3)\n",
        "        return t\n",
        "    # Шаг вправо\n",
        "    elif step == 3:\n",
        "        pole = cp.rot90(pole, k=2)\n",
        "        # Аналогично шагу вверх\n",
        "        t = shift(pole)\n",
        "        pole = cp.rot90(pole, k=2)\n",
        "        return t\n",
        "    # Шаг вниз\n",
        "    else:\n",
        "        pole = cp.rot90(pole, k=3)\n",
        "        # Аналогично шагу вверх\n",
        "        t = shift(pole)\n",
        "        pole = cp.rot90(pole, k=1)\n",
        "        return t\n"
      ],
      "execution_count": 0,
      "outputs": []
    },
    {
      "cell_type": "code",
      "metadata": {
        "colab_type": "code",
        "id": "Y8xWSkdlejdY",
        "outputId": "bfe1201d-84b1-4901-b61a-7bb5e95a3f81",
        "colab": {
          "base_uri": "https://localhost:8080/",
          "height": 206
        }
      },
      "source": [
        "a = cp.zeros((4, 4), dtype='int32')\n",
        "# Создается двумерный массив размером 4*4\n",
        "new_value(a)\n",
        "# Вставляется одно случайное значение\n",
        "scores = 0\n",
        "# Задается счет, изначально равный 0\n",
        "while (check(a)):\n",
        "    print(f'Score: {scores}')\n",
        "    # Перед каждым ходом выводим количество набранных очков\n",
        "    draw_pole(a)\n",
        "    # Выводим поле\n",
        "    com = int(input())\n",
        "    # Ожидаем ввода команды\n",
        "    steps, score = make_step(a, com)\n",
        "    # Считает количество перемещений и количество очков, которые мы получили за этот ход\n",
        "    scores += score\n",
        "    # Количество очков прибавляется к изначальному до хода\n",
        "    if steps == 0:\n",
        "      # Надо посмотреть произошло ли перемещение, иначе не происходит вставка нового элемента\n",
        "        continue\n",
        "    new_value(a)\n"
      ],
      "execution_count": 0,
      "outputs": [
        {
          "output_type": "stream",
          "text": [
            "Score: 0\n",
            "+----+----+----+----+\n",
            "|   2|    |    |    |\n",
            "+----+----+----+----+\n",
            "|    |    |    |    |\n",
            "+----+----+----+----+\n",
            "|    |    |    |    |\n",
            "+----+----+----+----+\n",
            "|    |    |    |    |\n",
            "+----+----+----+----+\n"
          ],
          "name": "stdout"
        }
      ]
    },
    {
      "cell_type": "code",
      "metadata": {
        "colab_type": "code",
        "id": "I9lyT5X_eoxE",
        "colab": {}
      },
      "source": [
        ""
      ],
      "execution_count": 0,
      "outputs": []
    }
  ]
}